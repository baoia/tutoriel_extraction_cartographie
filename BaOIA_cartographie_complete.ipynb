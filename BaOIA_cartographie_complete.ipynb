{
  "nbformat": 4,
  "nbformat_minor": 0,
  "metadata": {
    "colab": {
      "name": "BaOIA_cartographie_complete.ipynb",
      "provenance": [],
      "collapsed_sections": []
    },
    "kernelspec": {
      "name": "python3",
      "display_name": "Python 3"
    }
  },
  "cells": [
    {
      "cell_type": "markdown",
      "metadata": {
        "id": "XqOBVwAN_aHd"
      },
      "source": [
        "# Création d'une carte à partir de coordonnées géographiques de lieux\n",
        "\n",
        "*Document d'entrée* : le fichier au format JSON, comportant les lieux identifiés et leurs coordonnées géographiques, créé lors de l'alignement des données (étape 3).\n",
        "\n",
        "*Document de sortie* : carte au format HTML à ouvrir dans un navigateur web une fois téléchargée sur son ordinateur (en dehors du Google Drive).\n",
        "\n",
        "Il est possible à la fin d'ajouter, à la fin du notebook, son propre fond de carte.\n",
        "\n"
      ]
    },
    {
      "cell_type": "code",
      "metadata": {
        "id": "iAX5eLkzxAeG"
      },
      "source": [
        "#@markdown # Connecter le notebook à son compte Google Drive :\n",
        "\n",
        "#@markdown - Lancer la cellule\n",
        "#@markdown - Cliquer sur « Exécuter malgré tout » lors de l’apparition du message d’avertissement indiquant que le notebook n’a pas été créé par Google\n",
        "#@markdown - Cliquer sur « Se connecter à Google Drive » lors de l’apparition du second message d’avertissement pour donner l’autorisation au notebook d’accéder à vos fichiers Google Drive\n",
        "#@markdown - Choisir son compte Gmail puis cliquer sur « Autoriser »\n",
        "\n",
        "!pip install geopy==1.17.0\n",
        "from google.colab import drive\n",
        "import urllib.parse, urllib.request\n",
        "import os\n",
        "import folium\n",
        "from geopy.geocoders import Nominatim\n",
        "import pandas as pd\n",
        "from folium import plugins\n",
        "import json\n",
        "import csv\n",
        "import re\n",
        "import itertools\n",
        "import matplotlib.pyplot as plt\n",
        "from pandas.plotting import table\n",
        "\n",
        "drive.mount('/content/drive/')\n",
        "%cd /content/drive/My Drive/"
      ],
      "execution_count": null,
      "outputs": []
    },
    {
      "cell_type": "code",
      "metadata": {
        "id": "1SkFcWbxr9f0"
      },
      "source": [
        "#@markdown # Création d'une carte présentant tous les lieux identifiés\n",
        "\n",
        "#@markdown Les coordonnées géographiques du fichier JSON sont récupérées pour intégrer directement les lieux sur la carte.\n",
        "\n",
        "#@markdown La carte est par défaut centrée sur l'Europe. Il est possible de zoomer/dézoomer et de se déplacer pour accéder à l'endroit précis recherché.\n",
        "\n",
        "#@markdown ####Indiquer le chemin absolu vers le dossier de travail sur le Google Drive :\n",
        "chemin_vers_le_dossier_de_travail = '/content/drive/My Drive/tutoriel_extraction_cartographie-main/'#@param {type:\"string\"}\n",
        "os.chdir(chemin_vers_le_dossier_de_travail)\n",
        "\n",
        "#@markdown ####Indiquer le nom du fichier JSON contenant les coordonnées géographiques :\n",
        "nom_fichier_donnees_lieux = 'donnees lieux corpus guides.json'#@param {type:\"string\"}\n",
        "\n",
        "#@markdown ####Indiquer le nom de la carte créée :\n",
        "nom_carte = 'carte_complete.html'#@param {type:\"string\"}\n",
        "\n",
        "with open(nom_fichier_donnees_lieux, 'r') as po:\n",
        "  donnees = json.load(po)\n",
        "\n",
        "map = folium.Map(location=[48.856614, 2.3522219], zoom_start=5)\n",
        "\n",
        "for k in donnees:\n",
        "    lat = donnees[k][\"Latitude\"] \n",
        "    longi = donnees[k][\"Longitude\"]\n",
        "    try:\n",
        "      folium.Marker([float(lat), float(longi)]).add_to(map) \n",
        "    except (TypeError, ValueError) as terr:\n",
        "      pass\n",
        "\n",
        "map.save(nom_carte)\n",
        "map"
      ],
      "execution_count": null,
      "outputs": []
    },
    {
      "cell_type": "code",
      "metadata": {
        "id": "4LzWUT07oLi3"
      },
      "source": [
        "#@markdown # Ajout d'un fond de carte personnalisé\n",
        "\n",
        "#@markdown L'ajout d'un fond de carte personnalisé est possible grâce au site web [Map Warper](https://mapwarper.net/). Les informations à ce sujet sont disponibles sur le tutoriel du [site du projet](https://baoia.huma-num.fr/contact/tutoriel-complet-de-lextraction-documentaire-a-la-cartographie/).\n",
        "\n",
        "lien_tiles_pour_fond_carte = \"https://mapwarper.net/maps/tile/54525/{z}/{x}/{y}.png\"#@param {type:\"string\"}\n",
        "nom_carte_fond = 'carte_complete_fond.html'#@param {type:\"string\"}\n",
        "map = folium.Map(location=[48.856614, 2.3522219], zoom_start=12, \n",
        "                 tiles=lien_tiles_pour_fond_carte, attr=\"None\")\n",
        "\n",
        "with open(nom_fichier_donnees_lieux, 'r') as po:\n",
        "  donnees = json.load(po)\n",
        "for k in donnees:\n",
        "    lat = donnees[k][\"Latitude\"] \n",
        "    longi = donnees[k][\"Longitude\"]\n",
        "    try:\n",
        "      folium.Marker([float(lat), float(longi)]).add_to(map) \n",
        "    except (TypeError, ValueError) as terr:\n",
        "      pass\n",
        "\n",
        "map.save(nom_carte_fond)\n",
        "map"
      ],
      "execution_count": null,
      "outputs": []
    }
  ]
}